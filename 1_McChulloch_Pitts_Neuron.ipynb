{
  "cells": [
    {
      "cell_type": "code",
      "execution_count": null,
      "metadata": {
        "colab": {
          "base_uri": "https://localhost:8080/"
        },
        "id": "kwv3HbAINMCG",
        "outputId": "2e6d55f0-25d7-4e53-eb90-ba2d49240818"
      },
      "outputs": [
        {
          "name": "stdout",
          "output_type": "stream",
          "text": [
            "Mounted at /content/gdrive\n"
          ]
        }
      ],
      "source": [
        "# mount Google Drive\n",
        "from google.colab import drive\n",
        "drive.mount('/content/gdrive')"
      ]
    },
    {
      "cell_type": "code",
      "execution_count": null,
      "metadata": {
        "id": "UAbgKh7nDt5-"
      },
      "outputs": [],
      "source": [
        "import cv2\n",
        "import matplotlib.pyplot as plt"
      ]
    },
    {
      "cell_type": "markdown",
      "metadata": {
        "id": "UsE6ml1f-qWV"
      },
      "source": [
        "# McChulloch Pitts Neuron\n",
        "It is a highly simplified computational model for how biological neurons work. It was used to model boolean functions to immitate the biological phenomenon of nerve cell activation through synapses\n",
        "\n",
        "![MP Neuron](https://miro.medium.com/max/738/1*fDHlg9iNo0LLK4czQqqO9A.png)"
      ]
    },
    {
      "cell_type": "code",
      "execution_count": null,
      "metadata": {
        "id": "itUwM9HU-gds"
      },
      "outputs": [],
      "source": [
        "class MP_Neuron:\n",
        "  '''\n",
        "  Class to implement the functionality of an MP neuron\n",
        "  '''\n",
        "  def __init__(self, inp = [], thresh = 0):\n",
        "    self.inputs = inp\n",
        "    self.threshold = thresh\n",
        "  \n",
        "  def g(self):\n",
        "    return sum(self.inputs)\n",
        "  \n",
        "  def f(self):\n",
        "    if self.g() >= self.threshold:\n",
        "      return 1\n",
        "    else:\n",
        "      return 0\n",
        "  \n",
        "  def showNeuron(self):\n",
        "    img_path = r\"assets\\images\\MP_Neuron_structure.png\"\n",
        "    img = plt.imread(img_path)\n",
        "    # # Displaying the result\n",
        "    cv2.putText(img, f'{self.f()}', (65, 30), cv2.FONT_HERSHEY_SIMPLEX, 0.6, (0, 0, 0), 2, cv2.LINE_AA)\n",
        "\n",
        "    # # Displaying the threshold\n",
        "    cv2.putText(img, f'{self.threshold}', (66, 85), cv2.FONT_HERSHEY_SIMPLEX, 0.55, (0, 0, 0), 2, cv2.LINE_AA)\n",
        "    \n",
        "    # # Displaying the inputs\n",
        "    cv2.putText(img, f'{self.inputs[0]}', (20, 180), cv2.FONT_HERSHEY_SIMPLEX, 0.7, (0, 0, 0), 2, cv2.LINE_AA)\n",
        "    if len(self.inputs) > 1:\n",
        "      cv2.putText(img, f'{self.inputs[1]}', (65, 180), cv2.FONT_HERSHEY_SIMPLEX, 0.7, (0, 0, 0), 2, cv2.LINE_AA)\n",
        "    if len(self.inputs) > 2:\n",
        "      cv2.putText(img, f'{self.inputs[2]}', (105, 180), cv2.FONT_HERSHEY_SIMPLEX, 0.7, (0, 0, 0), 2, cv2.LINE_AA)\n",
        "\n",
        "    plt.imshow(img)\n",
        "    plt.axis('off')  \n"
      ]
    },
    {
      "cell_type": "markdown",
      "metadata": {
        "id": "dMvcFPqtBFBu"
      },
      "source": [
        "## Implementing boolean operations using the MP Neuron class"
      ]
    },
    {
      "cell_type": "markdown",
      "metadata": {
        "id": "nmRKY7CQKBAL"
      },
      "source": [
        "1. AND Function\n",
        "\n",
        "![MP Neuron And Function](https://miro.medium.com/max/875/1*ErKKEr1uMBht6474K7Vf4g.png)"
      ]
    },
    {
      "cell_type": "code",
      "execution_count": null,
      "metadata": {
        "colab": {
          "base_uri": "https://localhost:8080/",
          "height": 248
        },
        "id": "sMShHCjPBDbq",
        "outputId": "ece785e6-f364-4bba-eb62-7b6444526ab0"
      },
      "outputs": [
        {
          "data": {
            "image/png": "[encoded data removed]",
            "text/plain": [
              "<Figure size 432x288 with 1 Axes>"
            ]
          },
          "metadata": {
            "needs_background": "light"
          },
          "output_type": "display_data"
        }
      ],
      "source": [
        "y_and_op = MP_Neuron([1, 1, 0], 3).showNeuron()"
      ]
    },
    {
      "cell_type": "markdown",
      "metadata": {
        "id": "XRjZn38JKrpH"
      },
      "source": [
        "2. OR Function\n",
        "\n",
        "![MP Neuron And Function](https://miro.medium.com/max/875/1*lupe8zIYqNb8t72XQIZDHw.png)"
      ]
    },
    {
      "cell_type": "code",
      "execution_count": null,
      "metadata": {
        "colab": {
          "base_uri": "https://localhost:8080/",
          "height": 248
        },
        "id": "Myhpqmf3BetW",
        "outputId": "d6c3fa6c-d843-456a-83c9-6ccd2fefb22d"
      },
      "outputs": [
        {
          "data": {
            "image/png": "[encoded data removed]",
            "text/plain": [
              "<Figure size 432x288 with 1 Axes>"
            ]
          },
          "metadata": {
            "needs_background": "light"
          },
          "output_type": "display_data"
        }
      ],
      "source": [
        "y_or_op = MP_Neuron([1, 0, 0], 1).showNeuron()"
      ]
    },
    {
      "cell_type": "markdown",
      "metadata": {
        "id": "xeQg_n2LKtPS"
      },
      "source": [
        "3. AND Function with inhibitory input\n",
        "\n",
        "![MP Neuron And Function](https://miro.medium.com/max/495/1*0FisbY6LROsXyMXPlTaMgQ.png)"
      ]
    },
    {
      "cell_type": "code",
      "execution_count": null,
      "metadata": {
        "colab": {
          "base_uri": "https://localhost:8080/",
          "height": 248
        },
        "id": "vaKyCEYoJAcu",
        "outputId": "19d4df80-3fe6-4e79-90f0-b7804a986bb0"
      },
      "outputs": [
        {
          "data": {
            "image/png": "[encoded data removed]",
            "text/plain": [
              "<Figure size 432x288 with 1 Axes>"
            ]
          },
          "metadata": {
            "needs_background": "light"
          },
          "output_type": "display_data"
        }
      ],
      "source": [
        "y_and_inhibit_op = MP_Neuron([1, -1], 1).showNeuron()"
      ]
    },
    {
      "cell_type": "markdown",
      "metadata": {
        "id": "YfldvI40KuRJ"
      },
      "source": [
        "4. NOR Function\n",
        "\n",
        "![MP Neuron NOR Function](https://miro.medium.com/max/488/1*9HGZhDjTStga79VvACBegw.png)"
      ]
    },
    {
      "cell_type": "code",
      "execution_count": null,
      "metadata": {
        "colab": {
          "base_uri": "https://localhost:8080/",
          "height": 248
        },
        "id": "HsiJ9b59J5TA",
        "outputId": "e71786e7-8596-44f6-c2c5-0d22de9eccb4"
      },
      "outputs": [
        {
          "data": {
            "image/png": "[encoded data removed]",
            "text/plain": [
              "<Figure size 432x288 with 1 Axes>"
            ]
          },
          "metadata": {
            "needs_background": "light"
          },
          "output_type": "display_data"
        }
      ],
      "source": [
        "y_nor_op = MP_Neuron([-1, -0], 0).showNeuron()"
      ]
    },
    {
      "cell_type": "markdown",
      "metadata": {
        "id": "RtJV09BUMhci"
      },
      "source": [
        "5. NOT Function\n",
        "\n",
        "![MP Neuron NOT Function](https://miro.medium.com/max/480/1*_KXA7o3LpPOIWiZL1vrCpg.png)"
      ]
    },
    {
      "cell_type": "code",
      "execution_count": null,
      "metadata": {
        "colab": {
          "base_uri": "https://localhost:8080/",
          "height": 248
        },
        "id": "gS7IonAFLhGh",
        "outputId": "85c68e76-ec37-4ccb-8144-5b2085423d28"
      },
      "outputs": [
        {
          "data": {
            "image/png": "[encoded data removed]",
            "text/plain": [
              "<Figure size 432x288 with 1 Axes>"
            ]
          },
          "metadata": {
            "needs_background": "light"
          },
          "output_type": "display_data"
        }
      ],
      "source": [
        "y_not_op = MP_Neuron([-1], 0).showNeuron()"
      ]
    }
  ],
  "metadata": {
    "colab": {
      "collapsed_sections": [],
      "provenance": []
    },
    "kernelspec": {
      "display_name": "Python 3.7.0 64-bit",
      "language": "python",
      "name": "python3"
    },
    "language_info": {
      "name": "python",
      "version": "3.7.0"
    },
    "vscode": {
      "interpreter": {
        "hash": "fa1920c33c86f411a66b068a73f9f1f41cb87a33acb0277ff8c1ed4e2643745f"
      }
    }
  },
  "nbformat": 4,
  "nbformat_minor": 0
}
